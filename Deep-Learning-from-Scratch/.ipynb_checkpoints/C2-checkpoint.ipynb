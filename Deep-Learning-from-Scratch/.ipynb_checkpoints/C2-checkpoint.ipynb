{
 "cells": [
  {
   "cell_type": "markdown",
   "id": "18b74799-e425-4c7f-8761-43887e98ba28",
   "metadata": {},
   "source": [
    "# 第二章"
   ]
  },
  {
   "cell_type": "markdown",
   "id": "b80467ec-1b10-4655-b085-1c488b8924e5",
   "metadata": {},
   "source": [
    "## 感知机（perceptron） "
   ]
  },
  {
   "cell_type": "markdown",
   "id": "902b9eb5-cb7d-44b7-86a8-541ecfb1e1f8",
   "metadata": {},
   "source": [
    "x1和x2作为输入信号，w1和w2为权重。信号乘以权重达到临界值θ的时候，输出信号为1，否则为零\n",
    "总结：\n",
    "* x1w1+x2w2<=θ 返回0\n",
    "* x1w1+x2w2 >θ  返回1"
   ]
  },
  {
   "cell_type": "markdown",
   "id": "a4aa5570-9157-40a1-8a48-59213dabddd9",
   "metadata": {
    "tags": []
   },
   "source": [
    "### 与门（AND gate）"
   ]
  },
  {
   "cell_type": "markdown",
   "id": "c9cae605-af33-4771-9e0b-9d6cf94f9386",
   "metadata": {},
   "source": [
    "与门：当两个输入值都为1的时候，输出1，其余都输出0\n",
    "\n",
    "|  x1  |  x2  |  y  |\n",
    "|  ----  |  ----  |  ----  |\n",
    "|  0  |  0  |  0  |\n",
    "|  1  |  0  |  0  |\n",
    "|  0  |  1  |  0  |\n",
    "|  1  |  1  |  1  |"
   ]
  },
  {
   "cell_type": "code",
   "execution_count": 4,
   "id": "840623dd-4c72-4dd5-affe-7d028efeee59",
   "metadata": {
    "tags": []
   },
   "outputs": [
    {
     "data": {
      "text/plain": [
       "1"
      ]
     },
     "execution_count": 4,
     "metadata": {},
     "output_type": "execute_result"
    }
   ],
   "source": [
    "import numpy as np\n",
    "\n",
    "def AND(x1, x2):\n",
    "    x = np.array([x1, x2])\n",
    "    w = np.array([0.5, 0.5])\n",
    "    b =-0.7\n",
    "    tmp =np.sum(w*x)+b\n",
    "    if tmp<=0:\n",
    "        return 0\n",
    "    else:\n",
    "        return 1\n",
    "    \n",
    "AND(1,1)"
   ]
  },
  {
   "cell_type": "markdown",
   "id": "605409d8-2561-44bd-abd3-0e757c6e38d3",
   "metadata": {},
   "source": [
    "### 与非门（NAND gate）"
   ]
  },
  {
   "cell_type": "markdown",
   "id": "8bf11517-06e4-44de-96e7-e53fcbef4ab3",
   "metadata": {},
   "source": [
    "与非门: 就是颠倒与门，当x1和x2同时为1的时候，输出为0.其余输出1.\n",
    "\n",
    "|  x1  |  x2  |  y  |\n",
    "|  ----  |  ----  |  ----  |\n",
    "|  0  |  0  |  1  |\n",
    "|  1  |  0  |  1  |\n",
    "|  0  |  1  |  1  |\n",
    "|  1  |  1  |  0  |"
   ]
  },
  {
   "cell_type": "code",
   "execution_count": 7,
   "id": "d8abc3ff-141b-4ddf-9d88-f6fb3928cdfe",
   "metadata": {
    "tags": []
   },
   "outputs": [
    {
     "data": {
      "text/plain": [
       "1"
      ]
     },
     "execution_count": 7,
     "metadata": {},
     "output_type": "execute_result"
    }
   ],
   "source": [
    "def NAND(x1, x2):\n",
    "    x = np.array([x1, x2])\n",
    "    w = np.array([-0.5, -0.5])\n",
    "    b = 0.7\n",
    "    tmp = np.sum(w*x)+b\n",
    "    if tmp<=0:\n",
    "        return 0\n",
    "    else:\n",
    "        return 1\n",
    "    \n",
    "NAND(0,1)"
   ]
  },
  {
   "cell_type": "markdown",
   "id": "e4384b3f-0a6c-4e28-a9e3-36b13a389701",
   "metadata": {},
   "source": [
    "### 或门（OR gate）"
   ]
  },
  {
   "cell_type": "markdown",
   "id": "ccef492e-7cd8-48f5-b35f-88249b921f0e",
   "metadata": {},
   "source": [
    "或门：只要一个输入信号是1，则输出信号为1.\n",
    "\n",
    "|  x1  |  x2  |  y  |\n",
    "|  ----  |  ----  |  ----  |\n",
    "|  0  |  0  |  0  |\n",
    "|  1  |  0  |  1  |\n",
    "|  0  |  1  |  1  |\n",
    "|  1  |  1  |  1  |"
   ]
  },
  {
   "cell_type": "code",
   "execution_count": 10,
   "id": "6a837b62-ceb0-45af-a06a-ca4bacc7c678",
   "metadata": {
    "tags": []
   },
   "outputs": [
    {
     "data": {
      "text/plain": [
       "1"
      ]
     },
     "execution_count": 10,
     "metadata": {},
     "output_type": "execute_result"
    }
   ],
   "source": [
    "def OR(x1, x2):\n",
    "    x = np.array([x1, x2])\n",
    "    w = np.array([0.5, 0.5])\n",
    "    b =-0.2\n",
    "    tmp =np.sum(w*x)+b\n",
    "    if tmp<=0:\n",
    "        return 0\n",
    "    else:\n",
    "        return 1\n",
    "    \n",
    "OR(0,1)"
   ]
  },
  {
   "cell_type": "markdown",
   "id": "a7de48da-ac9f-4e60-89d8-5c9a44aa37d4",
   "metadata": {},
   "source": [
    "### 异或门（XOR gate）"
   ]
  },
  {
   "cell_type": "markdown",
   "id": "ca8a1b02-bf0e-4294-8c43-c9419e438b70",
   "metadata": {},
   "source": [
    "异或门: 当x1和x2中，有一个为1的时候，输出1.其余输出0.\n",
    "\n",
    "|  x1  |  x2  |  y  |\n",
    "|  ----  |  ----  |  ----  |\n",
    "|  0  |  0  |  0  |\n",
    "|  1  |  0  |  1  |\n",
    "|  0  |  1  |  1  |\n",
    "|  1  |  1  |  0  |"
   ]
  },
  {
   "cell_type": "markdown",
   "id": "5bbf57ed-2574-4775-87cc-fb74b3c6a630",
   "metadata": {},
   "source": [
    "总结：\n",
    "* 感知机无法识别异或门，感知机的局限性\n",
    "* 异或门是非线形的\n",
    "* 异或门是可以通过多层感知机来实现"
   ]
  },
  {
   "cell_type": "markdown",
   "id": "39a14532-f746-4040-ada2-826f726e59d4",
   "metadata": {},
   "source": [
    "x1 x2作为输入信号，s1是x1 x2的**与非门**的输出，s2是x1 x2的**或门**的输出，y的输出为s1和s2的**和门**输出\n",
    "\n",
    "|  x1  |  x2  |  s1  |  s2  |  y  |\n",
    "|  ----  |  ----  |  ----  |  ----  |  ----  |\n",
    "|  0  |  0  |  1  |  0  |  0  |\n",
    "|  1  |  0  |  1  |  1  |  1  |\n",
    "|  0  |  1  |  1  |  1  |  1  |\n",
    "|  1  |  1  |  0  |  1  |  0  |"
   ]
  },
  {
   "cell_type": "code",
   "execution_count": 13,
   "id": "59304b71-ecbd-4571-86aa-d6616d28fe30",
   "metadata": {
    "tags": []
   },
   "outputs": [
    {
     "data": {
      "text/plain": [
       "0"
      ]
     },
     "execution_count": 13,
     "metadata": {},
     "output_type": "execute_result"
    }
   ],
   "source": [
    "def XOR(x1, x2):\n",
    "    s1 = NAND(x1, x2)\n",
    "    s2 = OR(x1,x2)\n",
    "    y = AND(s1, s2)\n",
    "    return y\n",
    "    \n",
    "XOR(1,1)"
   ]
  },
  {
   "cell_type": "code",
   "execution_count": null,
   "id": "8af736c9-e51f-4c51-bfd1-7f0946f1205c",
   "metadata": {},
   "outputs": [],
   "source": []
  }
 ],
 "metadata": {
  "kernelspec": {
   "display_name": "Python 3 (ipykernel)",
   "language": "python",
   "name": "python3"
  },
  "language_info": {
   "codemirror_mode": {
    "name": "ipython",
    "version": 3
   },
   "file_extension": ".py",
   "mimetype": "text/x-python",
   "name": "python",
   "nbconvert_exporter": "python",
   "pygments_lexer": "ipython3",
   "version": "3.11.4"
  }
 },
 "nbformat": 4,
 "nbformat_minor": 5
}
