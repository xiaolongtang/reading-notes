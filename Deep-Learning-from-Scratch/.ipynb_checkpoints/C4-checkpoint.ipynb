{
 "cells": [
  {
   "cell_type": "markdown",
   "id": "be1dae7b-ec33-4464-a44b-c201d86894f4",
   "metadata": {},
   "source": [
    "# 第四章"
   ]
  },
  {
   "cell_type": "markdown",
   "id": "9abebf23-942f-4a44-b270-b5f4a6b62ba2",
   "metadata": {},
   "source": [
    "## 数据"
   ]
  },
  {
   "cell_type": "markdown",
   "id": "9f1b3567-8b3f-4ae0-b43c-b5b39937fe8b",
   "metadata": {},
   "source": [
    "两种机器学习的方法：\n",
    "* 先从图像提取特征量再用机器学习技术学习特征量的模式。将图像转向特征量仍是由人设计。\n",
    "* 在神经网络中，连图像中包含的重要特征量也都是记起来学习的。\n",
    "\n",
    "人想到的特征量（SIFT, HOG等）-> 机器学习（svm, KNN等）-> 答案\n",
    "\n",
    "神经网络（深度学习）-> 答案\n",
    "\n",
    "**具体图参考书P83**\n",
    "\n",
    "机器学习中，一般数据分训练数据和测试数据，训练数据一可以称为监督数据。"
   ]
  },
  {
   "cell_type": "markdown",
   "id": "e13a3b7d-f142-47a7-80ce-ac2a826df21c",
   "metadata": {},
   "source": [
    "## 损失函数 （loss function）"
   ]
  },
  {
   "cell_type": "markdown",
   "id": "34dec410-bcf5-42c9-be76-dcbdec4f5c67",
   "metadata": {},
   "source": [
    "神经网络寻找最优的权重和偏置，所用的指标事损失函数。损失函数可以是任意函数，但一般用均方误差和交叉熵误。"
   ]
  },
  {
   "cell_type": "markdown",
   "id": "82774e42-4a95-4bcf-b7e8-7939b4ae4bac",
   "metadata": {},
   "source": [
    "### 均方误差 (mean squared error)"
   ]
  },
  {
   "cell_type": "markdown",
   "id": "df772f8e-da0e-4482-b04c-f0d6afd8acbc",
   "metadata": {
    "tags": []
   },
   "source": [
    "$E = \\frac{1}{2} \\Sigma_{i=1}^k({yk}-{tk})^2 $"
   ]
  },
  {
   "cell_type": "markdown",
   "id": "3ff7d204-cc05-4f11-b13e-b7039d388192",
   "metadata": {},
   "source": [
    "yk代表神经网络的输出，tk表示监督数据，k表示数据的维度。"
   ]
  },
  {
   "cell_type": "code",
   "execution_count": 9,
   "id": "586b342f-65e6-45cc-a884-df7faed656e1",
   "metadata": {
    "tags": []
   },
   "outputs": [
    {
     "name": "stdout",
     "output_type": "stream",
     "text": [
      "0.09750000000000003\n",
      "0.5975\n"
     ]
    }
   ],
   "source": [
    "import numpy as np\n",
    "\n",
    "y = [0.1, 0.05, 0.6, 0.0, 0.05, 0.1, 0.0, 0.1, 0.0, 0.0] #输出为2\n",
    "y2 = [0.1, 0.05, 0.1, 0.0, 0.05, 0.1, 0.0, 0.6, 0.0, 0.0] #输出为7的概率是0.6\n",
    "t = [0,0,1,0,0,0,0,0,0,0] #label指的是数字2，这种方式称作 one-hot\n",
    "\n",
    "#print(np.array(t).shape)\n",
    "\n",
    "def mean_squared_error(y,t):\n",
    "    return 0.5*np.sum((y-t)**2)\n",
    "\n",
    "print(mean_squared_error(np.array(y), np.array(t)))\n",
    "print(mean_squared_error(np.array(y2), np.array(t)))"
   ]
  },
  {
   "cell_type": "markdown",
   "id": "cf235496-60c1-406e-8633-6b8987e80630",
   "metadata": {},
   "source": [
    "### 交叉熵误差（cross entropy error）"
   ]
  },
  {
   "cell_type": "markdown",
   "id": "aa5bb7a9-c71d-47b1-b355-bfdb6e80f2e1",
   "metadata": {},
   "source": [
    "E = $-\\sum_{c=0}^kt_{k}\\log(y_{k})$"
   ]
  },
  {
   "cell_type": "markdown",
   "id": "b40f0dc2-4c09-4d4e-8a00-ad1cc9cd30e0",
   "metadata": {},
   "source": [
    "yk是神经网络的输出，tk是正确的标签。log表示以e为底数的自然对数。"
   ]
  },
  {
   "cell_type": "code",
   "execution_count": 10,
   "id": "7d1e0f29-9216-466d-abad-7ca7fc7690e7",
   "metadata": {
    "tags": []
   },
   "outputs": [
    {
     "name": "stdout",
     "output_type": "stream",
     "text": [
      "0.510825457099338\n",
      "2.302584092994546\n"
     ]
    }
   ],
   "source": [
    "import numpy as np\n",
    "\n",
    "y = [0.1, 0.05, 0.6, 0.0, 0.05, 0.1, 0.0, 0.1, 0.0, 0.0] #输出为2\n",
    "y2 = [0.1, 0.05, 0.1, 0.0, 0.05, 0.1, 0.0, 0.6, 0.0, 0.0] #输出为7的概率是0.6\n",
    "t = [0,0,1,0,0,0,0,0,0,0] #label指的是数字2，这种方式称作 one-hot\n",
    "\n",
    "def cross_entropy_error(y, t):\n",
    "    delta = 1e-7 #加个微小值，防止负无限大\n",
    "    return -np.sum(t*np.log(y+delta))\n",
    "\n",
    "print(cross_entropy_error(np.array(y), np.array(t)))\n",
    "print(cross_entropy_error(np.array(y2), np.array(t)))"
   ]
  },
  {
   "cell_type": "markdown",
   "id": "8555edfc-2883-4189-9b48-aabadef28e48",
   "metadata": {},
   "source": [
    "### mini-batch"
   ]
  },
  {
   "cell_type": "markdown",
   "id": "fae6d688-7031-4b66-ba6d-273510c8b68e",
   "metadata": {},
   "source": [
    "面对大数据的时候，不可能把所有数据来求损失函数的和。因此，抽选一部分数据，作为全部输的近似。"
   ]
  },
  {
   "cell_type": "code",
   "execution_count": 2,
   "id": "30053a76-a2b0-491e-b9ab-24f8ef00ac36",
   "metadata": {
    "tags": []
   },
   "outputs": [
    {
     "name": "stdout",
     "output_type": "stream",
     "text": [
      "(60000, 784)\n",
      "(60000, 10)\n"
     ]
    }
   ],
   "source": [
    "import sys, os\n",
    "import numpy as np\n",
    "from dataset.mnist import load_mnist\n",
    "\n",
    "(x_train, t_train),(x_test, t_test) = load_mnist(normalize= True, one_hot_label = True)\n",
    "\n",
    "print(x_train.shape)\n",
    "print(t_train.shape)"
   ]
  },
  {
   "cell_type": "code",
   "execution_count": 9,
   "id": "1309c086-e17c-4b65-b860-dde8edaf7778",
   "metadata": {
    "tags": []
   },
   "outputs": [],
   "source": [
    "# 现在随机抽取10笔\n",
    "\n",
    "train_size = x_train.shape[0]\n",
    "batch_size=10\n",
    "batch_mask = np.random.choice(train_size, batch_size)\n",
    "x_batch =x_train[batch_mask]\n",
    "t_batch = t_train[batch_mask]"
   ]
  },
  {
   "cell_type": "markdown",
   "id": "4dc88df0-f5aa-41fc-82ea-1da19cd1e8bb",
   "metadata": {},
   "source": [
    "## 导数"
   ]
  },
  {
   "cell_type": "markdown",
   "id": "c6c478a8-b1ac-4ba9-84b5-1fe964361017",
   "metadata": {},
   "source": [
    "导数就是表示某个瞬间的变化量"
   ]
  },
  {
   "cell_type": "code",
   "execution_count": 1,
   "id": "992a91aa-de7e-40f4-ba68-380647444757",
   "metadata": {
    "tags": []
   },
   "outputs": [
    {
     "data": {
      "image/png": "[encoded data removed]",
      "text/plain": [
       "<Figure size 640x480 with 1 Axes>"
      ]
     },
     "metadata": {},
     "output_type": "display_data"
    }
   ],
   "source": [
    "import numpy as np\n",
    "import matplotlib.pylab as plt\n",
    "\n",
    "#定义导数\n",
    "def numerical_diff(f, x):\n",
    "    h = 1e-4 #0.0001\n",
    "    return (f(x+h)-f(x-h))/(2*h)\n",
    "\n",
    "def function_1(x):\n",
    "    return 0.01*x**2+0.1*x\n",
    "\n",
    "x = np.arange(0.0, 20.0, 0.1)\n",
    "y =function_1(x)\n",
    "plt.xlabel(\"x\")\n",
    "plt.ylabel(\"y\")\n",
    "plt.plot(x, y)\n",
    "plt.show()"
   ]
  },
  {
   "cell_type": "code",
   "execution_count": 2,
   "id": "0a5bdc0a-df2d-4d08-8c95-45247334443a",
   "metadata": {
    "tags": []
   },
   "outputs": [
    {
     "name": "stdout",
     "output_type": "stream",
     "text": [
      "0.1999999999990898\n",
      "0.2999999999986347\n"
     ]
    }
   ],
   "source": [
    "#求 x=5和 x=10处的导数\n",
    "print(numerical_diff(function_1, 5))\n",
    "print(numerical_diff(function_1, 10))"
   ]
  },
  {
   "cell_type": "code",
   "execution_count": 3,
   "id": "2c668929-19b2-4447-af5a-d8a5ee846984",
   "metadata": {
    "tags": []
   },
   "outputs": [
    {
     "name": "stdout",
     "output_type": "stream",
     "text": [
      "6.00000000000378\n",
      "8.000000000016882\n"
     ]
    }
   ],
   "source": [
    "# 偏导数\n",
    "def function_2(x):\n",
    "    # return np.sum(x**2)\n",
    "    return x[0]**2+ x[1]**2\n",
    "\n",
    "# 把有多个变量的函数的导数，称为偏导数\n",
    "\n",
    "# 问题1: 求x0=3，x1=4，关于x0的偏导数\n",
    "def function_temp1(x0):\n",
    "    return x0*x0+ 4.0**2.0\n",
    "\n",
    "print(numerical_diff(function_temp1, 3.0))\n",
    "\n",
    "# 问题2: 求x0=3，x1=4，关于x1的偏导数\n",
    "def function_temp2(x1):\n",
    "    return 3.0**3.0+ x1*x1\n",
    "\n",
    "print(numerical_diff(function_temp2, 4.0))"
   ]
  },
  {
   "cell_type": "code",
   "execution_count": 4,
   "id": "aa4f5803-94b4-46d0-b814-e2216c246c20",
   "metadata": {},
   "outputs": [
    {
     "name": "stdout",
     "output_type": "stream",
     "text": [
      "[6. 8.]\n",
      "[0. 4.]\n",
      "[6. 0.]\n"
     ]
    }
   ],
   "source": [
    "# 梯度\n",
    "# 由全部的变量的偏导数汇总而成的向量称为梯度\n",
    "def numerical_gradient(f, x):\n",
    "    h = 1e-4 #0.0001\n",
    "    grad = np.zeros_like(x) #生成和x一样形状的数组，但是都是0填充的\n",
    "    \n",
    "    for idx in range(x.size):\n",
    "        tmp_val = x[idx]\n",
    "        x[idx] = tmp_val+h\n",
    "        fxh1 = f(x)   \n",
    "        \n",
    "        x[idx] = tmp_val-h\n",
    "        fxh2 = f(x)\n",
    "        \n",
    "        # if idx==0:\n",
    "        #     print(fxh1)\n",
    "        #     print(fxh2)\n",
    "        \n",
    "        grad[idx] = (fxh1-fxh2)/(2*h)\n",
    "        x[idx] = tmp_val\n",
    "        \n",
    "    return grad\n",
    "\n",
    "print(numerical_gradient(function_2, np.array([3.0,4.0])))\n",
    "print(numerical_gradient(function_2, np.array([0.0,2.0])))\n",
    "print(numerical_gradient(function_2, np.array([3.0,0.0])))\n",
    "# 通过不断的向梯度接近，逐渐减小函数值的过程，就是梯度法"
   ]
  },
  {
   "cell_type": "code",
   "execution_count": 6,
   "id": "a3daf168-cb12-47af-afef-bb56c960a7b2",
   "metadata": {},
   "outputs": [
    {
     "name": "stdout",
     "output_type": "stream",
     "text": [
      "[-6.11110793e-10  8.14814391e-10]\n"
     ]
    }
   ],
   "source": [
    "# 梯度下降法\n",
    "# init_x 是初始值。 \n",
    "# lr是学习率，学习率决定在一次学习中，应该学习多少，以及多大程度上更新参数。学习率大的话，会发散成一个很大的值，反过来基本没更新就结束了。学习率称为超参数，是人工设定的\n",
    "# step_num 指重复的次数。\n",
    "def gradient_descent(f, init_x, lr=0.01, step_num=100):\n",
    "    x = init_x\n",
    "    \n",
    "    for i in range(step_num):\n",
    "        grad = numerical_gradient(f, x)\n",
    "        x -= lr*grad\n",
    "        \n",
    "    return x\n",
    "\n",
    "init_x = np.array([-3.0, 4.0])\n",
    "print(gradient_descent(function_2, init_x=init_x, lr=0.1, step_num=100))"
   ]
  },
  {
   "cell_type": "code",
   "execution_count": 8,
   "id": "86ded49b-c4af-4ec0-9ff7-21135d980bcb",
   "metadata": {},
   "outputs": [
    {
     "name": "stdout",
     "output_type": "stream",
     "text": [
      "[ 0.19710717 -1.71854589 -1.46211856]\n",
      "0\n"
     ]
    }
   ],
   "source": [
    "import sys, os\n",
    "import numpy as np\n",
    "from common.functions import softmax, cross_entropy_error\n",
    "from common.gradient import numerical_gradient\n",
    "\n",
    "class simpleNet:\n",
    "    \n",
    "    def __init__(self):\n",
    "        self.W = np.random.randn(2,3)\n",
    "        \n",
    "    def predict(self, x):\n",
    "        return np.dot(x, self.W)\n",
    "    \n",
    "    def loss(self, x, t):\n",
    "        z = self.predict(x)\n",
    "        y = softmax(z)\n",
    "        loss = cross_entropy_error(y, t)\n",
    "        \n",
    "        return loss\n",
    "    \n",
    "net = simpleNet()\n",
    "# print(net.W)\n",
    "x =np.array([0.6, 0.9])\n",
    "p = net.predict(x)\n",
    "print(p)\n",
    "print(np.argmax(p))"
   ]
  },
  {
   "cell_type": "code",
   "execution_count": 9,
   "id": "b7960463-8599-4fd9-87f9-8c93b2c92d47",
   "metadata": {
    "tags": []
   },
   "outputs": [
    {
     "data": {
      "text/plain": [
       "0.29082591534939123"
      ]
     },
     "execution_count": 9,
     "metadata": {},
     "output_type": "execute_result"
    }
   ],
   "source": [
    "t = np.array([1, 0 , 0])\n",
    "net.loss(x,t)"
   ]
  },
  {
   "cell_type": "code",
   "execution_count": 10,
   "id": "6bc22246-2281-4784-a9af-6e6acbdf786d",
   "metadata": {
    "tags": []
   },
   "outputs": [
    {
     "name": "stdout",
     "output_type": "stream",
     "text": [
      "[[-0.15141255  0.06605254  0.08536001]\n",
      " [-0.22711882  0.0990788   0.12804002]]\n"
     ]
    }
   ],
   "source": [
    "def f(W):\n",
    "    return net.loss(x,t)\n",
    "\n",
    "DW = numerical_gradient(f, net.W)\n",
    "print(DW)"
   ]
  },
  {
   "cell_type": "markdown",
   "id": "40c66f4a-a8ca-4f9e-af50-422491d436be",
   "metadata": {},
   "source": [
    "## 学习算法的实现"
   ]
  },
  {
   "cell_type": "markdown",
   "id": "d65535f7-85cb-4ccc-84c2-5b32ebad3414",
   "metadata": {},
   "source": [
    "* mini-batch: 从训练数据中随机选出一部分数据\n",
    "* 就算梯度： 为了减小mini-batch的损失函数数值，需要求出各个权重参数的梯度\n",
    "* 将权重沿着梯度方向进行微小更新\n",
    "* 重复步骤1，步骤2，步骤3"
   ]
  },
  {
   "cell_type": "code",
   "execution_count": null,
   "id": "51d908d8-6b2a-4b4f-b28f-4f95debd1dad",
   "metadata": {
    "tags": []
   },
   "outputs": [],
   "source": [
    "import sys, os\n",
    "from common.functions import *\n",
    "from common.gradient import numerical_gradient\n",
    "\n",
    "class TwoLayerNet:\n",
    "    \n",
    "    def __init__(self, input_size, hidden_size, output_size, weight_init_std=0.01):\n",
    "        self.params ={}\n",
    "        self.params['W1'] = weight_init_std * np.random.randn(input_size, hidden_size)\n",
    "        self.params['b1'] = np.zeros(hidden_size)\n",
    "        self.params['W2'] = weight_init_std * np.random.randn(hidden_size, output_size)\n",
    "        self.params['b2'] = np.zeros(output_size)\n",
    "    \n",
    "    def predict(self, x):\n",
    "        W1, W2=self.params['W1'], self.params['W2']\n",
    "        b1, b2=self.params['b1'], self.params['b2']\n",
    "        \n",
    "        a1 = np.dot(x, W1)+b1\n",
    "        z1 = sigmoid(a1)\n",
    "        a2 = np.dot(z1, W2)+b2\n",
    "        y = softmax(a2)\n",
    "        \n",
    "        return y\n",
    "    \n",
    "    def loss(self, x, t):\n",
    "        y = self.predict(x)\n",
    "        return cross_entropy_error(y, t)\n",
    "    \n",
    "    def accuracy(self, x, t):\n",
    "        y= self.predict(x)\n",
    "        y= np.argmax(y, axis=1)\n",
    "        t = np.argmax(t, axis=1)\n",
    "        \n",
    "        accuracy = np.sum(y==t)/float(x.shape[0])\n",
    "        return accuracy\n",
    "    \n",
    "    def numerical_gradient(self, x, t):\n",
    "        loss_W = lambda W: self.loss(x, t)\n",
    "        grads = {}\n",
    "        grads['W1']= numerical_gradient(loss_W, self.params['W1'])\n",
    "        grads['b1']= numerical_gradient(loss_W, self.params['b1'])\n",
    "        grads['W2']= numerical_gradient(loss_W, self.params['W2'])\n",
    "        grads['b2']= numerical_gradient(loss_W, self.params['b2'])\n",
    "        \n",
    "        return grads\n",
    "\n",
    "import numpy as np\n",
    "from dataset.mnist import load_mnist\n",
    "import matplotlib.pyplot as plt\n",
    "\n",
    "(x_train, t_train), (x_test, t_test) = load_mnist(normalize= True, one_hot_label =True)\n",
    "\n",
    "iters_num =10000\n",
    "train_size = x_train.shape[0]\n",
    "batch_size = 100\n",
    "learning_rate = 0.1\n",
    "\n",
    "train_loss_list = []\n",
    "train_acc_list=[]\n",
    "test_acc_list=[]\n",
    "iter_per_epoch =max(train_size/batch_size, 1)\n",
    "print(\"iter_per_epoch: \"+ str(iter_per_epoch))\n",
    "\n",
    "network = TwoLayerNet(input_size=784, hidden_size=50, output_size=10)\n",
    "\n",
    "for i in range(iters_num):\n",
    "    # fetch mini-batch\n",
    "    batch_mask = np.random.choice(train_size, batch_size)\n",
    "    x_batch = x_train[batch_mask]\n",
    "    t_batch = t_train[batch_mask]\n",
    "    \n",
    "    grad = network.numerical_gradient(x_batch, t_batch)\n",
    "    \n",
    "    for key in ('W1', 'b1', 'W2', 'b2'):\n",
    "        network.params[key] -= learning_rate*grad[key]\n",
    "    \n",
    "    loss =network.loss(x_batch, t_batch)\n",
    "    train_loss_list.append(loss)\n",
    "    \n",
    "    if i%iter_per_epoch ==0:\n",
    "        train_acc = network.accuracy(x_train, t_train)\n",
    "        test_acc = network.accuracy(x_test, t_test)\n",
    "        train_acc_list.append(train_acc)\n",
    "        test_acc_list.append(test_acc)\n",
    "        print(\"train acc, test acc | \"+ str(train_acc)+\", \"+str(test_acc))\n",
    "        \n",
    "print(\"It is done\")\n",
    "markers = {'train': 'o', 'test': 's'}\n",
    "x = np.arange(len(train_acc_list))\n",
    "plt.plot(x, train_acc_list, label='train acc')\n",
    "plt.plot(x, test_acc_list, label='test acc', linestyle='--')\n",
    "plt.xlabel(\"epochs\")\n",
    "plt.ylabel(\"accuracy\")\n",
    "plt.ylim(0, 1.0)\n",
    "plt.legend(loc='lower right')\n",
    "plt.show()"
   ]
  },
  {
   "cell_type": "code",
   "execution_count": null,
   "id": "951b667b-cf01-49f0-bb47-c94d377772a4",
   "metadata": {},
   "outputs": [],
   "source": []
  }
 ],
 "metadata": {
  "kernelspec": {
   "display_name": "Python 3 (ipykernel)",
   "language": "python",
   "name": "python3"
  },
  "language_info": {
   "codemirror_mode": {
    "name": "ipython",
    "version": 3
   },
   "file_extension": ".py",
   "mimetype": "text/x-python",
   "name": "python",
   "nbconvert_exporter": "python",
   "pygments_lexer": "ipython3",
   "version": "3.11.4"
  }
 },
 "nbformat": 4,
 "nbformat_minor": 5
}
